{
 "cells": [
  {
   "cell_type": "markdown",
   "id": "utility-savings",
   "metadata": {},
   "source": [
    "# Michael Stephens\n",
    "\n",
    "### Instagram \"Likes\" Report"
   ]
  },
  {
   "cell_type": "markdown",
   "id": "distant-likelihood",
   "metadata": {},
   "source": [
    "##### Required Packages:"
   ]
  },
  {
   "cell_type": "code",
   "execution_count": 29,
   "id": "injured-headset",
   "metadata": {},
   "outputs": [],
   "source": [
    "from matplotlib import pyplot as plt\n",
    "import json\n",
    "from datetime import datetime as dt\n",
    "import pandas as pd\n",
    "import seaborn"
   ]
  },
  {
   "cell_type": "markdown",
   "id": "descending-likelihood",
   "metadata": {},
   "source": [
    "##### Import Data:"
   ]
  },
  {
   "cell_type": "code",
   "execution_count": 19,
   "id": "continental-oracle",
   "metadata": {},
   "outputs": [
    {
     "data": {
      "text/plain": [
       "{'media_likes': [['2020-12-16T23:33:58+00:00', 'grey_gallows_gr'],\n",
       "  ['2020-12-16T16:23:08+00:00', 'ruldelirio'],\n",
       "  ['2020-12-15T18:54:21+00:00', 'themourningband'],\n",
       "  ['2020-12-15T18:53:55+00:00', 'malefixioband'],\n",
       "  ['2020-12-15T18:53:44+00:00', 'pilgrimsofyearning'],\n",
       "  ['2020-12-15T18:53:28+00:00', '_djazy_'],\n",
       "  ['2020-11-27T13:43:32+00:00', 'kingvenusmusic'],\n",
       "  ['2020-10-30T01:52:26+00:00', 'desikhaleesi18'],\n",
       "  ['2020-10-30T01:49:02+00:00', 'hallowsmusic_'],\n",
       "  ['2020-10-28T18:17:55+00:00', 'the_wake_us'],\n",
       "  ['2020-10-12T02:09:16+00:00', 'altardefey'],\n",
       "  ['2020-05-22T02:00:50+00:00', 'thetunnelsf'],\n",
       "  ['2020-05-21T00:26:30+00:00', 'redapplecvlt'],\n",
       "  ['2020-04-25T17:34:10+00:00', 'blackphoenixalchemylab'],\n",
       "  ['2020-04-22T22:31:24+00:00', 'redapplecvlt'],\n",
       "  ['2020-04-21T13:38:36+00:00', 'secretsinrecords'],\n",
       "  ['2020-04-21T13:34:21+00:00', 'anarchogoth'],\n",
       "  ['2020-04-21T13:33:34+00:00', 'redapplecvlt'],\n",
       "  ['2020-04-20T17:32:12+00:00', 'tenderlash'],\n",
       "  ['2020-04-20T17:31:36+00:00', 'tenderlash'],\n",
       "  ['2020-04-11T13:26:42+00:00', 'the_beauty_of_gemina'],\n",
       "  ['2020-04-02T17:48:46+00:00', 'ligeia_resurrected'],\n",
       "  ['2020-03-30T20:22:41+00:00', 'fadeinpr'],\n",
       "  ['2020-03-20T22:20:46+00:00', 'blackphoenixalchemylab'],\n",
       "  ['2020-03-20T22:19:25+00:00', 'zolajesus'],\n",
       "  ['2020-02-23T16:15:10+00:00', 'deathwavefest'],\n",
       "  ['2020-02-12T15:09:05+00:00', 'anarchogoth'],\n",
       "  ['2020-01-31T18:02:57+00:00', 'zolajesus'],\n",
       "  ['2020-01-28T20:06:16+00:00', 'anarchogoth'],\n",
       "  ['2020-01-28T20:04:56+00:00', 'bigdarkroom'],\n",
       "  ['2020-01-28T03:31:09+00:00', 'ligeia_resurrected'],\n",
       "  ['2020-01-26T21:34:28+00:00', 'electricwildflower'],\n",
       "  ['2020-01-23T04:59:25+00:00', 'lisamilesviolin'],\n",
       "  ['2020-01-22T05:47:11+00:00', 'blackphoenixalchemylab'],\n",
       "  ['2020-01-20T02:10:42+00:00', 'lascaltra_official'],\n",
       "  ['2020-01-17T21:21:20+00:00', 'auger.band'],\n",
       "  ['2020-01-17T21:20:55+00:00', 'gothrockers'],\n",
       "  ['2020-01-17T21:20:37+00:00', 'destroy.exist'],\n",
       "  ['2020-01-15T18:11:40+00:00', 'blackphoenixalchemylab'],\n",
       "  ['2020-01-13T23:32:13+00:00', 'ashesfallenmusic'],\n",
       "  ['2020-01-13T14:22:11+00:00', 'the_wake_us'],\n",
       "  ['2020-01-12T16:53:34+00:00', 'anarchogoth'],\n",
       "  ['2020-01-12T02:17:34+00:00', 'cadaverkelly'],\n",
       "  ['2020-01-10T22:29:45+00:00', 'hedvigfuneral_'],\n",
       "  ['2020-01-10T20:18:29+00:00', 'gothrockers'],\n",
       "  ['2020-01-09T20:43:18+00:00', 'obscuraundead'],\n",
       "  ['2020-01-05T16:58:51+00:00', 'auger.band'],\n",
       "  ['2020-01-02T15:27:25+00:00', 'astarinite43'],\n",
       "  ['2020-01-01T19:20:02+00:00', 'the_wake_us'],\n",
       "  ['2020-01-01T03:32:18+00:00', 'lascaltra_official'],\n",
       "  ['2020-01-01T03:32:12+00:00', 'herdespairband'],\n",
       "  ['2020-01-01T03:32:07+00:00', 'the_wake_us'],\n",
       "  ['2020-01-01T03:31:45+00:00', 'marissa_nadler']]}"
      ]
     },
     "execution_count": 19,
     "metadata": {},
     "output_type": "execute_result"
    }
   ],
   "source": [
    "with open(r'C:\\Users\\waxen\\Desktop\\nocturnal_asylum_20210210\\likes.json') as a:\n",
    "    elikes = json.load(a)\n",
    "elikes"
   ]
  },
  {
   "cell_type": "markdown",
   "id": "smart-target",
   "metadata": {},
   "source": [
    "##### Determine Keys:"
   ]
  },
  {
   "cell_type": "code",
   "execution_count": 14,
   "id": "sustained-portal",
   "metadata": {},
   "outputs": [
    {
     "data": {
      "text/plain": [
       "dict_keys(['media_likes'])"
      ]
     },
     "execution_count": 14,
     "metadata": {},
     "output_type": "execute_result"
    }
   ],
   "source": [
    "elikes.keys()"
   ]
  },
  {
   "cell_type": "markdown",
   "id": "neural-salmon",
   "metadata": {},
   "source": [
    "##### Determine Types:"
   ]
  },
  {
   "cell_type": "code",
   "execution_count": 15,
   "id": "convenient-invasion",
   "metadata": {},
   "outputs": [
    {
     "data": {
      "text/plain": [
       "list"
      ]
     },
     "execution_count": 15,
     "metadata": {},
     "output_type": "execute_result"
    }
   ],
   "source": [
    "type(elikes['media_likes'])"
   ]
  },
  {
   "cell_type": "code",
   "execution_count": 22,
   "id": "stopped-accessory",
   "metadata": {},
   "outputs": [
    {
     "data": {
      "text/plain": [
       "['2020-12-16T23:33:58+00:00', 'grey_gallows_gr']"
      ]
     },
     "execution_count": 22,
     "metadata": {},
     "output_type": "execute_result"
    }
   ],
   "source": [
    "elikes['media_likes'][0]"
   ]
  },
  {
   "cell_type": "code",
   "execution_count": 24,
   "id": "received-atlantic",
   "metadata": {},
   "outputs": [
    {
     "data": {
      "text/plain": [
       "list"
      ]
     },
     "execution_count": 24,
     "metadata": {},
     "output_type": "execute_result"
    }
   ],
   "source": [
    "type(elikes['media_likes'][0])"
   ]
  },
  {
   "cell_type": "code",
   "execution_count": 26,
   "id": "planned-package",
   "metadata": {},
   "outputs": [
    {
     "data": {
      "text/plain": [
       "str"
      ]
     },
     "execution_count": 26,
     "metadata": {},
     "output_type": "execute_result"
    }
   ],
   "source": [
    "type('media_likes')"
   ]
  },
  {
   "cell_type": "markdown",
   "id": "hollow-softball",
   "metadata": {},
   "source": [
    "##### At this point, we see that \"media likes\" is just a string, and as such has no keys.  \n",
    "This means individual items cannot be isolated or called upon for data analysis or manipulation."
   ]
  },
  {
   "cell_type": "code",
   "execution_count": 28,
   "id": "willing-exclusion",
   "metadata": {},
   "outputs": [
    {
     "ename": "AttributeError",
     "evalue": "'str' object has no attribute 'keys'",
     "output_type": "error",
     "traceback": [
      "\u001b[1;31m---------------------------------------------------------------------------\u001b[0m",
      "\u001b[1;31mAttributeError\u001b[0m                            Traceback (most recent call last)",
      "\u001b[1;32m<ipython-input-28-f02452a5e0fe>\u001b[0m in \u001b[0;36m<module>\u001b[1;34m\u001b[0m\n\u001b[1;32m----> 1\u001b[1;33m \u001b[1;34m'media_likes'\u001b[0m\u001b[1;33m.\u001b[0m\u001b[0mkeys\u001b[0m\u001b[1;33m(\u001b[0m\u001b[1;33m)\u001b[0m\u001b[1;33m\u001b[0m\u001b[1;33m\u001b[0m\u001b[0m\n\u001b[0m",
      "\u001b[1;31mAttributeError\u001b[0m: 'str' object has no attribute 'keys'"
     ]
    }
   ],
   "source": [
    "'media_likes'.keys()"
   ]
  },
  {
   "cell_type": "code",
   "execution_count": 18,
   "id": "sought-value",
   "metadata": {},
   "outputs": [
    {
     "name": "stdout",
     "output_type": "stream",
     "text": [
      "53\n"
     ]
    }
   ],
   "source": [
    "print(len(elikes['media_likes']))"
   ]
  },
  {
   "cell_type": "markdown",
   "id": "electric-angle",
   "metadata": {},
   "source": [
    "##### Counting the number of items in \"media likes\" shows that I have liked only 53 items on Instagram.  \n",
    "Additionally, the data included no \"comment likes\".\n",
    "\n",
    "My conclusion would be that my data set are too small, and that due to the small data size, Instagram had not yet built my data into a library with keys, but finds it more efficient to store my data as simple strings.\n",
    "\n",
    "Furthermore, the conclusion could be drawn that I only brielfy experimented with Instagram, interacted only a handful of times, and then quit using Instagram."
   ]
  },
  {
   "cell_type": "markdown",
   "id": "infectious-perspective",
   "metadata": {},
   "source": [
    "*unfortunately, with data only available as strings without keys, I am unable to create any graphs or other visuals to show my limited usage of Instagram.*"
   ]
  }
 ],
 "metadata": {
  "kernelspec": {
   "display_name": "Python 3",
   "language": "python",
   "name": "python3"
  },
  "language_info": {
   "codemirror_mode": {
    "name": "ipython",
    "version": 3
   },
   "file_extension": ".py",
   "mimetype": "text/x-python",
   "name": "python",
   "nbconvert_exporter": "python",
   "pygments_lexer": "ipython3",
   "version": "3.9.1"
  }
 },
 "nbformat": 4,
 "nbformat_minor": 5
}
